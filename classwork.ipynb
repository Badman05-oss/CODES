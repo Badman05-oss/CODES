{
 "cells": [
  {
   "cell_type": "markdown",
   "metadata": {},
   "source": [
    "# Functions"
   ]
  },
  {
   "cell_type": "markdown",
   "metadata": {},
   "source": [
    "> A **function** is a named sequence of statements that performs a computation.\n",
    "> When defined, you specify the **name** and the sequence of statements.\n",
    "> Later, you **call the function** by name"
   ]
  },
  {
   "cell_type": "markdown",
   "metadata": {},
   "source": [
    ">> 1.  **A Python function that takes a list and returns a new list with unique elements of the first list.**"
   ]
  },
  {
   "cell_type": "code",
   "execution_count": 6,
   "metadata": {},
   "outputs": [
    {
     "name": "stdout",
     "output_type": "stream",
     "text": [
      " Enter a list Enter a list\n",
      "['E', 'n', 't', 'e', 'r', ' ', 'a', 'l', 'i', 's']\n"
     ]
    }
   ],
   "source": [
    "def unique_list(l):\n",
    "  x = []\n",
    "  for a in l:\n",
    "    if a not in x:\n",
    "      x.append(a)\n",
    "  return x\n",
    "\n",
    "print(unique_list(input('Enter a list: '))) "
   ]
  },
  {
   "cell_type": "markdown",
   "metadata": {},
   "source": [
    ">> 2. **A Python function that reverses a string.**"
   ]
  },
  {
   "cell_type": "code",
   "execution_count": 13,
   "metadata": {},
   "outputs": [
    {
     "name": "stdout",
     "output_type": "stream",
     "text": [
      " Enter a string eedd\n",
      "ddee\n"
     ]
    }
   ],
   "source": [
    "def string_reverse(str1):\n",
    "\n",
    "    rstr1 = ''\n",
    "    index = len(str1)\n",
    "    while index > 0:\n",
    "        rstr1 += str1[ index - 1 ]\n",
    "        index = index - 1\n",
    "    return rstr1\n",
    "print(string_reverse(input('Enter a string: ')))"
   ]
  },
  {
   "cell_type": "markdown",
   "metadata": {},
   "source": [
    ">> 3.  **A Python function that checks whether a passed string is palindrome or not.**"
   ]
  },
  {
   "cell_type": "code",
   "execution_count": 11,
   "metadata": {},
   "outputs": [
    {
     "name": "stdout",
     "output_type": "stream",
     "text": [
      " Enter a word delete\n",
      "False\n"
     ]
    }
   ],
   "source": [
    "def isPalindrome(string):\n",
    "    left_pos = 0\n",
    "    right_pos = len(string) - 1\n",
    "    \n",
    "    while right_pos >= left_pos:\n",
    "        if not string[left_pos] == string[right_pos]:\n",
    "            return False\n",
    "        left_pos += 1\n",
    "        right_pos -= 1\n",
    "    return True\n",
    "print(isPalindrome(input('Enter a word: '))) "
   ]
  },
  {
   "cell_type": "markdown",
   "metadata": {},
   "source": [
    "# Class Exercises"
   ]
  },
  {
   "cell_type": "markdown",
   "metadata": {},
   "source": [
    "> 1. **Write a shutting down program:**<br>\n",
    ">     a. First, **def** a function, <span style=color:green;>**shut_down**</span>, that takes one argument from the keyboard.<br> \n",
    ">     b. Then, if the <span style=color:green;>**shut_down**</span>  function receives an argument equal to **<span style=color:red;>\"yes\"**</span>, it should return <span style=color:blue;>\"Shutting down\"</span>.<br>\n",
    ">     c. Alternatively, elif argument is equal to <span style=color:red;>**\"no\"**</span>, then the function should return <span style=color:blue;>\"Shutdown aborted\".</span> <br>\n",
    ">     d. Finally, if shut_down gets anything other than those inputs, the function should return <span style=color:blue;>\"Sorry, such argument not welcome here \"</span>."
   ]
  },
  {
   "cell_type": "markdown",
   "metadata": {},
   "source": [
    "> 2. Create a function <span style=color:green;>**showEmployee()**</span> in such a way that it should accept a given number of employee name and salary as input, stores the data in a dictionary, and then save it into a csv file, if any of the following condition is met. <br>\n",
    ">    a. If the salary is greater than **N1,000,000** display employ name and salary in <span style=color:green;>**green color**</span>. <br>\n",
    ">    b. If the salary is greater than **N500,000** and less than N1,000,000 dispaly both employee name and salary in <span style=color:blue;>**blue color**</span>. <br>\n",
    ">    c. If the salary is less than **N500,000** dispaly both employee name and salary in red color.If the salary is missing in the function call display the message **\"Warning: No salary structure for employee\"** in <span style=color:red;>**red color**</span>."
   ]
  },
  {
   "cell_type": "markdown",
   "metadata": {},
   "source": [
    "> 3. **Follow the stpes:**    \n",
    ">       a. First, def a function called **cube** that takes an argument called **number**.<br>\n",
    ">       b. Make that function return the cube of that number (i.e. that number multiplied by itself and multiplied by itself once again).<br>\n",
    ">       c. Define a second function called **by_three** that takes an argument called number. if that number is divisible by 3, **by_three** should call **cube(number)** and return its result. Otherwise, **by_three should** return False. -Check if it works.\n"
   ]
  },
  {
   "cell_type": "markdown",
   "metadata": {},
   "source": [
    "> 4. Write a Python function that accepts a string and calculate the number of upper case letters and lower case letters."
   ]
  },
  {
   "cell_type": "markdown",
   "metadata": {},
   "source": [
    "# SHUT DOWN PROGRAM"
   ]
  },
  {
   "cell_type": "code",
   "execution_count": 10,
   "metadata": {},
   "outputs": [
    {
     "name": "stdout",
     "output_type": "stream",
     "text": [
      "Shut down ? :yes\n",
      "Shutting down\n",
      "None\n"
     ]
    }
   ],
   "source": [
    "def shut_down (user):\n",
    "    if \"yes\" == user:\n",
    "        print (\"Shutting down\")\n",
    "    elif \"no\" == user:\n",
    "        print (\"Shutdown aborted\")\n",
    "    else:\n",
    "        print (\"Sorry,such argument not welcome here\")\n",
    "        \n",
    "print(shut_down(input(\"Shut down ? :\")))"
   ]
  },
  {
   "cell_type": "markdown",
   "metadata": {},
   "source": [
    "# EMPLOYEE PROGRAM"
   ]
  },
  {
   "cell_type": "code",
   "execution_count": 11,
   "metadata": {},
   "outputs": [
    {
     "ename": "SyntaxError",
     "evalue": "unexpected EOF while parsing (<ipython-input-11-62f9771902d4>, line 1)",
     "output_type": "error",
     "traceback": [
      "\u001b[1;36m  File \u001b[1;32m\"<ipython-input-11-62f9771902d4>\"\u001b[1;36m, line \u001b[1;32m1\u001b[0m\n\u001b[1;33m    def showEmployee(f):\u001b[0m\n\u001b[1;37m                         ^\u001b[0m\n\u001b[1;31mSyntaxError\u001b[0m\u001b[1;31m:\u001b[0m unexpected EOF while parsing\n"
     ]
    }
   ],
   "source": [
    "import colorama \n",
    "from colorama import Fore , style\n",
    "import pandas as pd\n",
    "import csv\n",
    "\n",
    "def showEmployee(f):\n",
    "    g=0\n",
    "    while g < f :"
   ]
  },
  {
   "cell_type": "markdown",
   "metadata": {},
   "source": [
    "# CUBE"
   ]
  },
  {
   "cell_type": "code",
   "execution_count": 24,
   "metadata": {},
   "outputs": [
    {
     "name": "stdout",
     "output_type": "stream",
     "text": [
      "enter number: 8\n",
      "512\n"
     ]
    }
   ],
   "source": [
    "\n",
    "def cube(number):\n",
    "    cube = number**3\n",
    "    return cube\n",
    "\n",
    "def by_three(number):\n",
    "    if number%3 ==0 :\n",
    "        return cube(number)\n",
    "    else:\n",
    "        return False\n",
    "print(cube(int(input('enter number: '))))"
   ]
  },
  {
   "cell_type": "markdown",
   "metadata": {},
   "source": [
    "# ACCEPTING STRING"
   ]
  },
  {
   "cell_type": "code",
   "execution_count": 23,
   "metadata": {},
   "outputs": [
    {
     "name": "stdout",
     "output_type": "stream",
     "text": [
      "Number of uppercase characters : 6.000000, Number of lower case characters : 29.000000\n"
     ]
    }
   ],
   "source": [
    "def upcase_lowcase(f):\n",
    "    uppercase = sum(1 for i in f if i.isupper())\n",
    "    lowercase = sum(1 for i in f if i.islower())\n",
    "    \n",
    "    print(\"Number of uppercase characters : %f, Number of lower case characters : %f\" %(uppercase,lowercase))\n",
    "    \n",
    "upcase_lowcase(\"Fadil is The Badman incase you did NOT know\")"
   ]
  },
  {
   "cell_type": "code",
   "execution_count": null,
   "metadata": {},
   "outputs": [],
   "source": []
  }
 ],
 "metadata": {
  "kernelspec": {
   "display_name": "Python 3",
   "language": "python",
   "name": "python3"
  },
  "language_info": {
   "codemirror_mode": {
    "name": "ipython",
    "version": 3
   },
   "file_extension": ".py",
   "mimetype": "text/x-python",
   "name": "python",
   "nbconvert_exporter": "python",
   "pygments_lexer": "ipython3",
   "version": "3.8.5"
  }
 },
 "nbformat": 4,
 "nbformat_minor": 4
}
